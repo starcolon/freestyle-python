{
 "cells": [
  {
   "cell_type": "markdown",
   "metadata": {},
   "source": [
    "# Freestyle python exercises\n",
    "\n",
    "Trying some basic Python programming and plot"
   ]
  },
  {
   "cell_type": "markdown",
   "metadata": {},
   "source": [
    "![img](https://o.aolcdn.com/images/dims?quality=85&image_uri=http%3A%2F%2Fo.aolcdn.com%2Fhss%2Fstorage%2Fmidas%2F196d822091dd62d7ab7eac6e7ecdda3f%2F203421819%2Fpythonbootcamp_editorial.jpg&client=amp-blogside-v2&signature=b49b56f1df65b7a855aee2d6b5b85b34f56196f3)"
   ]
  },
  {
   "cell_type": "code",
   "execution_count": 191,
   "metadata": {},
   "outputs": [],
   "source": [
    "import math\n",
    "import pandas as pd\n",
    "import numpy as np\n",
    "import matplotlib.pyplot as plt\n",
    "\n",
    "import geopandas as geo\n",
    "from geopandas import GeoDataFrame\n",
    "from shapely.geometry import Point"
   ]
  },
  {
   "cell_type": "code",
   "execution_count": 192,
   "metadata": {},
   "outputs": [],
   "source": [
    "%matplotlib inline\n",
    "plt.rcParams['figure.figsize'] = [20, 8]"
   ]
  },
  {
   "cell_type": "markdown",
   "metadata": {},
   "source": [
    "## Let's cook the data!\n",
    "\n",
    "Loading CSV file locally with Pandas"
   ]
  },
  {
   "cell_type": "code",
   "execution_count": 193,
   "metadata": {},
   "outputs": [],
   "source": [
    "estate = pd.read_csv(\"data/Sacramentorealestatetransactions.csv\", sep=\",\")"
   ]
  },
  {
   "cell_type": "markdown",
   "metadata": {},
   "source": [
    "How can you view the data you just loaded?"
   ]
  },
  {
   "cell_type": "code",
   "execution_count": 194,
   "metadata": {
    "scrolled": true
   },
   "outputs": [
    {
     "data": {
      "text/html": [
       "<div>\n",
       "<style scoped>\n",
       "    .dataframe tbody tr th:only-of-type {\n",
       "        vertical-align: middle;\n",
       "    }\n",
       "\n",
       "    .dataframe tbody tr th {\n",
       "        vertical-align: top;\n",
       "    }\n",
       "\n",
       "    .dataframe thead th {\n",
       "        text-align: right;\n",
       "    }\n",
       "</style>\n",
       "<table border=\"1\" class=\"dataframe\">\n",
       "  <thead>\n",
       "    <tr style=\"text-align: right;\">\n",
       "      <th></th>\n",
       "      <th>street</th>\n",
       "      <th>city</th>\n",
       "      <th>zip</th>\n",
       "      <th>state</th>\n",
       "      <th>beds</th>\n",
       "      <th>baths</th>\n",
       "      <th>sq__ft</th>\n",
       "      <th>type</th>\n",
       "      <th>sale_date</th>\n",
       "      <th>price</th>\n",
       "      <th>latitude</th>\n",
       "      <th>longitude</th>\n",
       "    </tr>\n",
       "  </thead>\n",
       "  <tbody>\n",
       "    <tr>\n",
       "      <th>0</th>\n",
       "      <td>3526 HIGH ST</td>\n",
       "      <td>SACRAMENTO</td>\n",
       "      <td>95838</td>\n",
       "      <td>CA</td>\n",
       "      <td>2</td>\n",
       "      <td>1</td>\n",
       "      <td>836</td>\n",
       "      <td>Residential</td>\n",
       "      <td>Wed May 21 00:00:00 EDT 2008</td>\n",
       "      <td>59222</td>\n",
       "      <td>38.631913</td>\n",
       "      <td>-121.434879</td>\n",
       "    </tr>\n",
       "    <tr>\n",
       "      <th>1</th>\n",
       "      <td>51 OMAHA CT</td>\n",
       "      <td>SACRAMENTO</td>\n",
       "      <td>95823</td>\n",
       "      <td>CA</td>\n",
       "      <td>3</td>\n",
       "      <td>1</td>\n",
       "      <td>1167</td>\n",
       "      <td>Residential</td>\n",
       "      <td>Wed May 21 00:00:00 EDT 2008</td>\n",
       "      <td>68212</td>\n",
       "      <td>38.478902</td>\n",
       "      <td>-121.431028</td>\n",
       "    </tr>\n",
       "    <tr>\n",
       "      <th>2</th>\n",
       "      <td>2796 BRANCH ST</td>\n",
       "      <td>SACRAMENTO</td>\n",
       "      <td>95815</td>\n",
       "      <td>CA</td>\n",
       "      <td>2</td>\n",
       "      <td>1</td>\n",
       "      <td>796</td>\n",
       "      <td>Residential</td>\n",
       "      <td>Wed May 21 00:00:00 EDT 2008</td>\n",
       "      <td>68880</td>\n",
       "      <td>38.618305</td>\n",
       "      <td>-121.443839</td>\n",
       "    </tr>\n",
       "    <tr>\n",
       "      <th>3</th>\n",
       "      <td>2805 JANETTE WAY</td>\n",
       "      <td>SACRAMENTO</td>\n",
       "      <td>95815</td>\n",
       "      <td>CA</td>\n",
       "      <td>2</td>\n",
       "      <td>1</td>\n",
       "      <td>852</td>\n",
       "      <td>Residential</td>\n",
       "      <td>Wed May 21 00:00:00 EDT 2008</td>\n",
       "      <td>69307</td>\n",
       "      <td>38.616835</td>\n",
       "      <td>-121.439146</td>\n",
       "    </tr>\n",
       "    <tr>\n",
       "      <th>4</th>\n",
       "      <td>6001 MCMAHON DR</td>\n",
       "      <td>SACRAMENTO</td>\n",
       "      <td>95824</td>\n",
       "      <td>CA</td>\n",
       "      <td>2</td>\n",
       "      <td>1</td>\n",
       "      <td>797</td>\n",
       "      <td>Residential</td>\n",
       "      <td>Wed May 21 00:00:00 EDT 2008</td>\n",
       "      <td>81900</td>\n",
       "      <td>38.519470</td>\n",
       "      <td>-121.435768</td>\n",
       "    </tr>\n",
       "  </tbody>\n",
       "</table>\n",
       "</div>"
      ],
      "text/plain": [
       "             street        city    zip state  beds  baths  sq__ft  \\\n",
       "0      3526 HIGH ST  SACRAMENTO  95838    CA     2      1     836   \n",
       "1       51 OMAHA CT  SACRAMENTO  95823    CA     3      1    1167   \n",
       "2    2796 BRANCH ST  SACRAMENTO  95815    CA     2      1     796   \n",
       "3  2805 JANETTE WAY  SACRAMENTO  95815    CA     2      1     852   \n",
       "4   6001 MCMAHON DR  SACRAMENTO  95824    CA     2      1     797   \n",
       "\n",
       "          type                     sale_date  price   latitude   longitude  \n",
       "0  Residential  Wed May 21 00:00:00 EDT 2008  59222  38.631913 -121.434879  \n",
       "1  Residential  Wed May 21 00:00:00 EDT 2008  68212  38.478902 -121.431028  \n",
       "2  Residential  Wed May 21 00:00:00 EDT 2008  68880  38.618305 -121.443839  \n",
       "3  Residential  Wed May 21 00:00:00 EDT 2008  69307  38.616835 -121.439146  \n",
       "4  Residential  Wed May 21 00:00:00 EDT 2008  81900  38.519470 -121.435768  "
      ]
     },
     "execution_count": 194,
     "metadata": {},
     "output_type": "execute_result"
    }
   ],
   "source": [
    "estate[:5]"
   ]
  },
  {
   "cell_type": "code",
   "execution_count": 195,
   "metadata": {},
   "outputs": [
    {
     "data": {
      "text/plain": [
       "985"
      ]
     },
     "execution_count": 195,
     "metadata": {},
     "output_type": "execute_result"
    }
   ],
   "source": [
    "len(estate)"
   ]
  },
  {
   "cell_type": "markdown",
   "metadata": {},
   "source": [
    "## Explore the data"
   ]
  },
  {
   "cell_type": "markdown",
   "metadata": {},
   "source": [
    "### How many property types are there?\n",
    "\n",
    "List the unique \"type\" of the properties from the dataframe."
   ]
  },
  {
   "cell_type": "code",
   "execution_count": 196,
   "metadata": {},
   "outputs": [
    {
     "data": {
      "text/plain": [
       "array(['Residential', 'Condo', 'Multi-Family', 'Unkown'], dtype=object)"
      ]
     },
     "execution_count": 196,
     "metadata": {},
     "output_type": "execute_result"
    }
   ],
   "source": [
    "estate[\"type\"].unique()"
   ]
  },
  {
   "cell_type": "code",
   "execution_count": 197,
   "metadata": {},
   "outputs": [
    {
     "data": {
      "text/plain": [
       "39"
      ]
     },
     "execution_count": 197,
     "metadata": {},
     "output_type": "execute_result"
    }
   ],
   "source": [
    "len(set(estate[\"city\"]))"
   ]
  },
  {
   "cell_type": "code",
   "execution_count": null,
   "metadata": {},
   "outputs": [],
   "source": []
  },
  {
   "cell_type": "markdown",
   "metadata": {},
   "source": [
    "### Find date range of the data (sale dates)\n",
    "\n",
    "The column \"sale_date\" represents the date of each record in the dataframe. Let's find out the bounding range."
   ]
  },
  {
   "cell_type": "code",
   "execution_count": 198,
   "metadata": {},
   "outputs": [
    {
     "data": {
      "text/html": [
       "<div>\n",
       "<style scoped>\n",
       "    .dataframe tbody tr th:only-of-type {\n",
       "        vertical-align: middle;\n",
       "    }\n",
       "\n",
       "    .dataframe tbody tr th {\n",
       "        vertical-align: top;\n",
       "    }\n",
       "\n",
       "    .dataframe thead th {\n",
       "        text-align: right;\n",
       "    }\n",
       "</style>\n",
       "<table border=\"1\" class=\"dataframe\">\n",
       "  <thead>\n",
       "    <tr style=\"text-align: right;\">\n",
       "      <th></th>\n",
       "      <th>sale_date</th>\n",
       "    </tr>\n",
       "  </thead>\n",
       "  <tbody>\n",
       "    <tr>\n",
       "      <th>min</th>\n",
       "      <td>Fri May 16 00:00:00 EDT 2008</td>\n",
       "    </tr>\n",
       "    <tr>\n",
       "      <th>max</th>\n",
       "      <td>Wed May 21 00:00:00 EDT 2008</td>\n",
       "    </tr>\n",
       "  </tbody>\n",
       "</table>\n",
       "</div>"
      ],
      "text/plain": [
       "                        sale_date\n",
       "min  Fri May 16 00:00:00 EDT 2008\n",
       "max  Wed May 21 00:00:00 EDT 2008"
      ]
     },
     "execution_count": 198,
     "metadata": {},
     "output_type": "execute_result"
    }
   ],
   "source": [
    "estate.agg({\"sale_date\": [\"min\",\"max\"]})"
   ]
  },
  {
   "cell_type": "code",
   "execution_count": 199,
   "metadata": {},
   "outputs": [],
   "source": [
    "df[\"dt\"] = pd.to_datetime(df[\"sale_date\"])"
   ]
  },
  {
   "cell_type": "code",
   "execution_count": 200,
   "metadata": {},
   "outputs": [
    {
     "data": {
      "text/plain": [
       "382"
      ]
     },
     "execution_count": 200,
     "metadata": {},
     "output_type": "execute_result"
    }
   ],
   "source": [
    "import datetime\n",
    "len(df[df[\"dt\"] <= \"2008-05-18\"])"
   ]
  },
  {
   "cell_type": "code",
   "execution_count": 201,
   "metadata": {},
   "outputs": [
    {
     "data": {
      "text/html": [
       "<div>\n",
       "<style scoped>\n",
       "    .dataframe tbody tr th:only-of-type {\n",
       "        vertical-align: middle;\n",
       "    }\n",
       "\n",
       "    .dataframe tbody tr th {\n",
       "        vertical-align: top;\n",
       "    }\n",
       "\n",
       "    .dataframe thead tr th {\n",
       "        text-align: left;\n",
       "    }\n",
       "\n",
       "    .dataframe thead tr:last-of-type th {\n",
       "        text-align: right;\n",
       "    }\n",
       "</style>\n",
       "<table border=\"1\" class=\"dataframe\">\n",
       "  <thead>\n",
       "    <tr>\n",
       "      <th></th>\n",
       "      <th colspan=\"2\" halign=\"left\">price</th>\n",
       "    </tr>\n",
       "    <tr>\n",
       "      <th></th>\n",
       "      <th>min</th>\n",
       "      <th>max</th>\n",
       "    </tr>\n",
       "    <tr>\n",
       "      <th>dt</th>\n",
       "      <th></th>\n",
       "      <th></th>\n",
       "    </tr>\n",
       "  </thead>\n",
       "  <tbody>\n",
       "    <tr>\n",
       "      <th>2008-05-15</th>\n",
       "      <td>56950</td>\n",
       "      <td>235738</td>\n",
       "    </tr>\n",
       "    <tr>\n",
       "      <th>2008-05-16</th>\n",
       "      <td>1551</td>\n",
       "      <td>884790</td>\n",
       "    </tr>\n",
       "    <tr>\n",
       "      <th>2008-05-19</th>\n",
       "      <td>4897</td>\n",
       "      <td>760000</td>\n",
       "    </tr>\n",
       "    <tr>\n",
       "      <th>2008-05-20</th>\n",
       "      <td>69000</td>\n",
       "      <td>839000</td>\n",
       "    </tr>\n",
       "    <tr>\n",
       "      <th>2008-05-21</th>\n",
       "      <td>59222</td>\n",
       "      <td>830000</td>\n",
       "    </tr>\n",
       "  </tbody>\n",
       "</table>\n",
       "</div>"
      ],
      "text/plain": [
       "            price        \n",
       "              min     max\n",
       "dt                       \n",
       "2008-05-15  56950  235738\n",
       "2008-05-16   1551  884790\n",
       "2008-05-19   4897  760000\n",
       "2008-05-20  69000  839000\n",
       "2008-05-21  59222  830000"
      ]
     },
     "execution_count": 201,
     "metadata": {},
     "output_type": "execute_result"
    }
   ],
   "source": [
    "df.groupby(\"dt\").agg({\"price\": [\"min\",\"max\"]})"
   ]
  },
  {
   "cell_type": "markdown",
   "metadata": {},
   "source": [
    "### How many properties are smaller than 60 m^2 ?\n",
    "\n",
    "Given 10.764 sq ft = 1 sqm"
   ]
  },
  {
   "cell_type": "code",
   "execution_count": 202,
   "metadata": {},
   "outputs": [],
   "source": [
    "estate[\"sq_m\"] = estate[\"sq__ft\"] / 10.764"
   ]
  },
  {
   "cell_type": "code",
   "execution_count": 203,
   "metadata": {},
   "outputs": [
    {
     "data": {
      "text/html": [
       "<div>\n",
       "<style scoped>\n",
       "    .dataframe tbody tr th:only-of-type {\n",
       "        vertical-align: middle;\n",
       "    }\n",
       "\n",
       "    .dataframe tbody tr th {\n",
       "        vertical-align: top;\n",
       "    }\n",
       "\n",
       "    .dataframe thead th {\n",
       "        text-align: right;\n",
       "    }\n",
       "</style>\n",
       "<table border=\"1\" class=\"dataframe\">\n",
       "  <thead>\n",
       "    <tr style=\"text-align: right;\">\n",
       "      <th></th>\n",
       "      <th>street</th>\n",
       "      <th>city</th>\n",
       "      <th>zip</th>\n",
       "      <th>state</th>\n",
       "      <th>beds</th>\n",
       "      <th>baths</th>\n",
       "      <th>sq__ft</th>\n",
       "      <th>type</th>\n",
       "      <th>sale_date</th>\n",
       "      <th>price</th>\n",
       "      <th>latitude</th>\n",
       "      <th>longitude</th>\n",
       "      <th>sq_m</th>\n",
       "    </tr>\n",
       "  </thead>\n",
       "  <tbody>\n",
       "    <tr>\n",
       "      <th>354</th>\n",
       "      <td>3715 TALLYHO DR Unit 78HIGH</td>\n",
       "      <td>SACRAMENTO</td>\n",
       "      <td>95826</td>\n",
       "      <td>CA</td>\n",
       "      <td>1</td>\n",
       "      <td>1</td>\n",
       "      <td>625</td>\n",
       "      <td>Condo</td>\n",
       "      <td>Mon May 19 00:00:00 EDT 2008</td>\n",
       "      <td>100000</td>\n",
       "      <td>38.544627</td>\n",
       "      <td>-121.357960</td>\n",
       "      <td>58.063917</td>\n",
       "    </tr>\n",
       "    <tr>\n",
       "      <th>338</th>\n",
       "      <td>4030 BROADWAY</td>\n",
       "      <td>SACRAMENTO</td>\n",
       "      <td>95817</td>\n",
       "      <td>CA</td>\n",
       "      <td>2</td>\n",
       "      <td>1</td>\n",
       "      <td>623</td>\n",
       "      <td>Residential</td>\n",
       "      <td>Mon May 19 00:00:00 EDT 2008</td>\n",
       "      <td>62050</td>\n",
       "      <td>38.546798</td>\n",
       "      <td>-121.460038</td>\n",
       "      <td>57.878112</td>\n",
       "    </tr>\n",
       "    <tr>\n",
       "      <th>868</th>\n",
       "      <td>9127 NEWHALL DR Unit 34</td>\n",
       "      <td>SACRAMENTO</td>\n",
       "      <td>95826</td>\n",
       "      <td>CA</td>\n",
       "      <td>1</td>\n",
       "      <td>1</td>\n",
       "      <td>611</td>\n",
       "      <td>Condo</td>\n",
       "      <td>Thu May 15 00:00:00 EDT 2008</td>\n",
       "      <td>60000</td>\n",
       "      <td>38.542419</td>\n",
       "      <td>-121.359904</td>\n",
       "      <td>56.763285</td>\n",
       "    </tr>\n",
       "    <tr>\n",
       "      <th>168</th>\n",
       "      <td>5028 14TH AVE</td>\n",
       "      <td>SACRAMENTO</td>\n",
       "      <td>95820</td>\n",
       "      <td>CA</td>\n",
       "      <td>2</td>\n",
       "      <td>1</td>\n",
       "      <td>610</td>\n",
       "      <td>Residential</td>\n",
       "      <td>Tue May 20 00:00:00 EDT 2008</td>\n",
       "      <td>93675</td>\n",
       "      <td>38.539420</td>\n",
       "      <td>-121.446894</td>\n",
       "      <td>56.670383</td>\n",
       "    </tr>\n",
       "    <tr>\n",
       "      <th>18</th>\n",
       "      <td>250 PERALTA AVE</td>\n",
       "      <td>SACRAMENTO</td>\n",
       "      <td>95833</td>\n",
       "      <td>CA</td>\n",
       "      <td>2</td>\n",
       "      <td>1</td>\n",
       "      <td>588</td>\n",
       "      <td>Residential</td>\n",
       "      <td>Wed May 21 00:00:00 EDT 2008</td>\n",
       "      <td>120000</td>\n",
       "      <td>38.612099</td>\n",
       "      <td>-121.469095</td>\n",
       "      <td>54.626533</td>\n",
       "    </tr>\n",
       "  </tbody>\n",
       "</table>\n",
       "</div>"
      ],
      "text/plain": [
       "                          street        city    zip state  beds  baths  \\\n",
       "354  3715 TALLYHO DR Unit 78HIGH  SACRAMENTO  95826    CA     1      1   \n",
       "338                4030 BROADWAY  SACRAMENTO  95817    CA     2      1   \n",
       "868      9127 NEWHALL DR Unit 34  SACRAMENTO  95826    CA     1      1   \n",
       "168                5028 14TH AVE  SACRAMENTO  95820    CA     2      1   \n",
       "18               250 PERALTA AVE  SACRAMENTO  95833    CA     2      1   \n",
       "\n",
       "     sq__ft         type                     sale_date   price   latitude  \\\n",
       "354     625        Condo  Mon May 19 00:00:00 EDT 2008  100000  38.544627   \n",
       "338     623  Residential  Mon May 19 00:00:00 EDT 2008   62050  38.546798   \n",
       "868     611        Condo  Thu May 15 00:00:00 EDT 2008   60000  38.542419   \n",
       "168     610  Residential  Tue May 20 00:00:00 EDT 2008   93675  38.539420   \n",
       "18      588  Residential  Wed May 21 00:00:00 EDT 2008  120000  38.612099   \n",
       "\n",
       "      longitude       sq_m  \n",
       "354 -121.357960  58.063917  \n",
       "338 -121.460038  57.878112  \n",
       "868 -121.359904  56.763285  \n",
       "168 -121.446894  56.670383  \n",
       "18  -121.469095  54.626533  "
      ]
     },
     "execution_count": 203,
     "metadata": {},
     "output_type": "execute_result"
    }
   ],
   "source": [
    "estate[(estate[\"sq_m\"] < 60.) & (estate[\"sq_m\"] > 0.)].sort_values(by=\"sq_m\", ascending=False)[:5]"
   ]
  },
  {
   "cell_type": "code",
   "execution_count": 204,
   "metadata": {},
   "outputs": [
    {
     "data": {
      "text/plain": [
       "7"
      ]
     },
     "execution_count": 204,
     "metadata": {},
     "output_type": "execute_result"
    }
   ],
   "source": [
    "len(estate[(estate[\"sq_m\"] < 60.) & (estate[\"sq_m\"] > 0.)])"
   ]
  },
  {
   "cell_type": "markdown",
   "metadata": {},
   "source": [
    "### Find the highest, lowest, mean prices of properties in each city\n",
    "\n",
    "Aggregations come into play."
   ]
  },
  {
   "cell_type": "code",
   "execution_count": 205,
   "metadata": {},
   "outputs": [],
   "source": [
    "price_by_state = estate.groupby(\"city\").agg({\"price\": [\"min\",\"max\",\"mean\",\"std\",\"count\"]})"
   ]
  },
  {
   "cell_type": "code",
   "execution_count": 206,
   "metadata": {},
   "outputs": [
    {
     "data": {
      "text/html": [
       "<div>\n",
       "<style scoped>\n",
       "    .dataframe tbody tr th:only-of-type {\n",
       "        vertical-align: middle;\n",
       "    }\n",
       "\n",
       "    .dataframe tbody tr th {\n",
       "        vertical-align: top;\n",
       "    }\n",
       "\n",
       "    .dataframe thead tr th {\n",
       "        text-align: left;\n",
       "    }\n",
       "\n",
       "    .dataframe thead tr:last-of-type th {\n",
       "        text-align: right;\n",
       "    }\n",
       "</style>\n",
       "<table border=\"1\" class=\"dataframe\">\n",
       "  <thead>\n",
       "    <tr>\n",
       "      <th></th>\n",
       "      <th colspan=\"5\" halign=\"left\">price</th>\n",
       "    </tr>\n",
       "    <tr>\n",
       "      <th></th>\n",
       "      <th>min</th>\n",
       "      <th>max</th>\n",
       "      <th>mean</th>\n",
       "      <th>std</th>\n",
       "      <th>count</th>\n",
       "    </tr>\n",
       "    <tr>\n",
       "      <th>city</th>\n",
       "      <th></th>\n",
       "      <th></th>\n",
       "      <th></th>\n",
       "      <th></th>\n",
       "      <th></th>\n",
       "    </tr>\n",
       "  </thead>\n",
       "  <tbody>\n",
       "    <tr>\n",
       "      <th>ANTELOPE</th>\n",
       "      <td>115000</td>\n",
       "      <td>408431</td>\n",
       "      <td>232496.393939</td>\n",
       "      <td>71963.663914</td>\n",
       "      <td>33</td>\n",
       "    </tr>\n",
       "    <tr>\n",
       "      <th>AUBURN</th>\n",
       "      <td>260000</td>\n",
       "      <td>560000</td>\n",
       "      <td>405890.800000</td>\n",
       "      <td>131800.852134</td>\n",
       "      <td>5</td>\n",
       "    </tr>\n",
       "    <tr>\n",
       "      <th>CAMERON PARK</th>\n",
       "      <td>119000</td>\n",
       "      <td>425000</td>\n",
       "      <td>267944.444444</td>\n",
       "      <td>115064.776443</td>\n",
       "      <td>9</td>\n",
       "    </tr>\n",
       "    <tr>\n",
       "      <th>CARMICHAEL</th>\n",
       "      <td>139500</td>\n",
       "      <td>668365</td>\n",
       "      <td>295684.750000</td>\n",
       "      <td>142134.046072</td>\n",
       "      <td>20</td>\n",
       "    </tr>\n",
       "    <tr>\n",
       "      <th>CITRUS HEIGHTS</th>\n",
       "      <td>30000</td>\n",
       "      <td>305000</td>\n",
       "      <td>187114.914286</td>\n",
       "      <td>58423.361610</td>\n",
       "      <td>35</td>\n",
       "    </tr>\n",
       "    <tr>\n",
       "      <th>COOL</th>\n",
       "      <td>300000</td>\n",
       "      <td>300000</td>\n",
       "      <td>300000.000000</td>\n",
       "      <td>NaN</td>\n",
       "      <td>1</td>\n",
       "    </tr>\n",
       "    <tr>\n",
       "      <th>DIAMOND SPRINGS</th>\n",
       "      <td>216033</td>\n",
       "      <td>216033</td>\n",
       "      <td>216033.000000</td>\n",
       "      <td>NaN</td>\n",
       "      <td>1</td>\n",
       "    </tr>\n",
       "    <tr>\n",
       "      <th>EL DORADO</th>\n",
       "      <td>205000</td>\n",
       "      <td>289000</td>\n",
       "      <td>247000.000000</td>\n",
       "      <td>59396.969620</td>\n",
       "      <td>2</td>\n",
       "    </tr>\n",
       "    <tr>\n",
       "      <th>EL DORADO HILLS</th>\n",
       "      <td>235738</td>\n",
       "      <td>879000</td>\n",
       "      <td>491698.956522</td>\n",
       "      <td>162001.012744</td>\n",
       "      <td>23</td>\n",
       "    </tr>\n",
       "    <tr>\n",
       "      <th>ELK GROVE</th>\n",
       "      <td>71000</td>\n",
       "      <td>510000</td>\n",
       "      <td>271157.692982</td>\n",
       "      <td>91511.950277</td>\n",
       "      <td>114</td>\n",
       "    </tr>\n",
       "  </tbody>\n",
       "</table>\n",
       "</div>"
      ],
      "text/plain": [
       "                  price                                            \n",
       "                    min     max           mean            std count\n",
       "city                                                               \n",
       "ANTELOPE         115000  408431  232496.393939   71963.663914    33\n",
       "AUBURN           260000  560000  405890.800000  131800.852134     5\n",
       "CAMERON PARK     119000  425000  267944.444444  115064.776443     9\n",
       "CARMICHAEL       139500  668365  295684.750000  142134.046072    20\n",
       "CITRUS HEIGHTS    30000  305000  187114.914286   58423.361610    35\n",
       "COOL             300000  300000  300000.000000            NaN     1\n",
       "DIAMOND SPRINGS  216033  216033  216033.000000            NaN     1\n",
       "EL DORADO        205000  289000  247000.000000   59396.969620     2\n",
       "EL DORADO HILLS  235738  879000  491698.956522  162001.012744    23\n",
       "ELK GROVE         71000  510000  271157.692982   91511.950277   114"
      ]
     },
     "execution_count": 206,
     "metadata": {},
     "output_type": "execute_result"
    }
   ],
   "source": [
    "price_by_state[:10]"
   ]
  },
  {
   "cell_type": "code",
   "execution_count": 207,
   "metadata": {},
   "outputs": [
    {
     "data": {
      "text/plain": [
       "city\n",
       "GRANITE BAY        678733.333333\n",
       "WILTON             617508.400000\n",
       "LOOMIS             567000.000000\n",
       "PENRYN             506688.000000\n",
       "EL DORADO HILLS    491698.956522\n",
       "Name: mean, dtype: float64"
      ]
     },
     "execution_count": 207,
     "metadata": {},
     "output_type": "execute_result"
    }
   ],
   "source": [
    "price_by_state[\"price\"][\"mean\"].sort_values(ascending=False)[:5]"
   ]
  },
  {
   "cell_type": "markdown",
   "metadata": {},
   "source": [
    "### Find how much each property is more expensive than average price of the city\n",
    "\n",
    "Using the mean price of each city we figured out earlier."
   ]
  },
  {
   "cell_type": "code",
   "execution_count": 208,
   "metadata": {},
   "outputs": [],
   "source": [
    "mean_city_price = price_by_state[\"price\"][\"mean\"]\n",
    "estate_price = estate[[\"street\",\"type\",\"city\", \"price\",\"latitude\",\"longitude\"]]"
   ]
  },
  {
   "cell_type": "code",
   "execution_count": 209,
   "metadata": {},
   "outputs": [
    {
     "data": {
      "text/html": [
       "<div>\n",
       "<style scoped>\n",
       "    .dataframe tbody tr th:only-of-type {\n",
       "        vertical-align: middle;\n",
       "    }\n",
       "\n",
       "    .dataframe tbody tr th {\n",
       "        vertical-align: top;\n",
       "    }\n",
       "\n",
       "    .dataframe thead th {\n",
       "        text-align: right;\n",
       "    }\n",
       "</style>\n",
       "<table border=\"1\" class=\"dataframe\">\n",
       "  <thead>\n",
       "    <tr style=\"text-align: right;\">\n",
       "      <th></th>\n",
       "      <th>street</th>\n",
       "      <th>type</th>\n",
       "      <th>city</th>\n",
       "      <th>price</th>\n",
       "      <th>latitude</th>\n",
       "      <th>longitude</th>\n",
       "    </tr>\n",
       "  </thead>\n",
       "  <tbody>\n",
       "    <tr>\n",
       "      <th>0</th>\n",
       "      <td>3526 HIGH ST</td>\n",
       "      <td>Residential</td>\n",
       "      <td>SACRAMENTO</td>\n",
       "      <td>59222</td>\n",
       "      <td>38.631913</td>\n",
       "      <td>-121.434879</td>\n",
       "    </tr>\n",
       "    <tr>\n",
       "      <th>1</th>\n",
       "      <td>51 OMAHA CT</td>\n",
       "      <td>Residential</td>\n",
       "      <td>SACRAMENTO</td>\n",
       "      <td>68212</td>\n",
       "      <td>38.478902</td>\n",
       "      <td>-121.431028</td>\n",
       "    </tr>\n",
       "    <tr>\n",
       "      <th>2</th>\n",
       "      <td>2796 BRANCH ST</td>\n",
       "      <td>Residential</td>\n",
       "      <td>SACRAMENTO</td>\n",
       "      <td>68880</td>\n",
       "      <td>38.618305</td>\n",
       "      <td>-121.443839</td>\n",
       "    </tr>\n",
       "    <tr>\n",
       "      <th>3</th>\n",
       "      <td>2805 JANETTE WAY</td>\n",
       "      <td>Residential</td>\n",
       "      <td>SACRAMENTO</td>\n",
       "      <td>69307</td>\n",
       "      <td>38.616835</td>\n",
       "      <td>-121.439146</td>\n",
       "    </tr>\n",
       "    <tr>\n",
       "      <th>4</th>\n",
       "      <td>6001 MCMAHON DR</td>\n",
       "      <td>Residential</td>\n",
       "      <td>SACRAMENTO</td>\n",
       "      <td>81900</td>\n",
       "      <td>38.519470</td>\n",
       "      <td>-121.435768</td>\n",
       "    </tr>\n",
       "  </tbody>\n",
       "</table>\n",
       "</div>"
      ],
      "text/plain": [
       "             street         type        city  price   latitude   longitude\n",
       "0      3526 HIGH ST  Residential  SACRAMENTO  59222  38.631913 -121.434879\n",
       "1       51 OMAHA CT  Residential  SACRAMENTO  68212  38.478902 -121.431028\n",
       "2    2796 BRANCH ST  Residential  SACRAMENTO  68880  38.618305 -121.443839\n",
       "3  2805 JANETTE WAY  Residential  SACRAMENTO  69307  38.616835 -121.439146\n",
       "4   6001 MCMAHON DR  Residential  SACRAMENTO  81900  38.519470 -121.435768"
      ]
     },
     "execution_count": 209,
     "metadata": {},
     "output_type": "execute_result"
    }
   ],
   "source": [
    "estate_price[:5]"
   ]
  },
  {
   "cell_type": "code",
   "execution_count": 210,
   "metadata": {},
   "outputs": [],
   "source": [
    "estate = pd.merge(estate_price, mean_city_price, how=\"inner\", on=\"city\")"
   ]
  },
  {
   "cell_type": "code",
   "execution_count": 211,
   "metadata": {},
   "outputs": [
    {
     "data": {
      "text/html": [
       "<div>\n",
       "<style scoped>\n",
       "    .dataframe tbody tr th:only-of-type {\n",
       "        vertical-align: middle;\n",
       "    }\n",
       "\n",
       "    .dataframe tbody tr th {\n",
       "        vertical-align: top;\n",
       "    }\n",
       "\n",
       "    .dataframe thead th {\n",
       "        text-align: right;\n",
       "    }\n",
       "</style>\n",
       "<table border=\"1\" class=\"dataframe\">\n",
       "  <thead>\n",
       "    <tr style=\"text-align: right;\">\n",
       "      <th></th>\n",
       "      <th>street</th>\n",
       "      <th>type</th>\n",
       "      <th>city</th>\n",
       "      <th>price</th>\n",
       "      <th>latitude</th>\n",
       "      <th>longitude</th>\n",
       "      <th>mean</th>\n",
       "    </tr>\n",
       "  </thead>\n",
       "  <tbody>\n",
       "    <tr>\n",
       "      <th>0</th>\n",
       "      <td>3526 HIGH ST</td>\n",
       "      <td>Residential</td>\n",
       "      <td>SACRAMENTO</td>\n",
       "      <td>59222</td>\n",
       "      <td>38.631913</td>\n",
       "      <td>-121.434879</td>\n",
       "      <td>197735.98861</td>\n",
       "    </tr>\n",
       "    <tr>\n",
       "      <th>1</th>\n",
       "      <td>51 OMAHA CT</td>\n",
       "      <td>Residential</td>\n",
       "      <td>SACRAMENTO</td>\n",
       "      <td>68212</td>\n",
       "      <td>38.478902</td>\n",
       "      <td>-121.431028</td>\n",
       "      <td>197735.98861</td>\n",
       "    </tr>\n",
       "    <tr>\n",
       "      <th>2</th>\n",
       "      <td>2796 BRANCH ST</td>\n",
       "      <td>Residential</td>\n",
       "      <td>SACRAMENTO</td>\n",
       "      <td>68880</td>\n",
       "      <td>38.618305</td>\n",
       "      <td>-121.443839</td>\n",
       "      <td>197735.98861</td>\n",
       "    </tr>\n",
       "    <tr>\n",
       "      <th>3</th>\n",
       "      <td>2805 JANETTE WAY</td>\n",
       "      <td>Residential</td>\n",
       "      <td>SACRAMENTO</td>\n",
       "      <td>69307</td>\n",
       "      <td>38.616835</td>\n",
       "      <td>-121.439146</td>\n",
       "      <td>197735.98861</td>\n",
       "    </tr>\n",
       "    <tr>\n",
       "      <th>4</th>\n",
       "      <td>6001 MCMAHON DR</td>\n",
       "      <td>Residential</td>\n",
       "      <td>SACRAMENTO</td>\n",
       "      <td>81900</td>\n",
       "      <td>38.519470</td>\n",
       "      <td>-121.435768</td>\n",
       "      <td>197735.98861</td>\n",
       "    </tr>\n",
       "  </tbody>\n",
       "</table>\n",
       "</div>"
      ],
      "text/plain": [
       "             street         type        city  price   latitude   longitude  \\\n",
       "0      3526 HIGH ST  Residential  SACRAMENTO  59222  38.631913 -121.434879   \n",
       "1       51 OMAHA CT  Residential  SACRAMENTO  68212  38.478902 -121.431028   \n",
       "2    2796 BRANCH ST  Residential  SACRAMENTO  68880  38.618305 -121.443839   \n",
       "3  2805 JANETTE WAY  Residential  SACRAMENTO  69307  38.616835 -121.439146   \n",
       "4   6001 MCMAHON DR  Residential  SACRAMENTO  81900  38.519470 -121.435768   \n",
       "\n",
       "           mean  \n",
       "0  197735.98861  \n",
       "1  197735.98861  \n",
       "2  197735.98861  \n",
       "3  197735.98861  \n",
       "4  197735.98861  "
      ]
     },
     "execution_count": 211,
     "metadata": {},
     "output_type": "execute_result"
    }
   ],
   "source": [
    "estate[:5]"
   ]
  },
  {
   "cell_type": "code",
   "execution_count": 212,
   "metadata": {},
   "outputs": [],
   "source": [
    "estate[\"%\"] = 100*(price_diff[\"price\"] - price_diff[\"mean\"])/price_diff[\"mean\"]"
   ]
  },
  {
   "cell_type": "code",
   "execution_count": 213,
   "metadata": {},
   "outputs": [
    {
     "data": {
      "text/html": [
       "<div>\n",
       "<style scoped>\n",
       "    .dataframe tbody tr th:only-of-type {\n",
       "        vertical-align: middle;\n",
       "    }\n",
       "\n",
       "    .dataframe tbody tr th {\n",
       "        vertical-align: top;\n",
       "    }\n",
       "\n",
       "    .dataframe thead th {\n",
       "        text-align: right;\n",
       "    }\n",
       "</style>\n",
       "<table border=\"1\" class=\"dataframe\">\n",
       "  <thead>\n",
       "    <tr style=\"text-align: right;\">\n",
       "      <th></th>\n",
       "      <th>street</th>\n",
       "      <th>city</th>\n",
       "      <th>price</th>\n",
       "      <th>%</th>\n",
       "    </tr>\n",
       "  </thead>\n",
       "  <tbody>\n",
       "    <tr>\n",
       "      <th>821</th>\n",
       "      <td>408 KIRKWOOD CT</td>\n",
       "      <td>LINCOLN</td>\n",
       "      <td>512000</td>\n",
       "      <td>430.354158</td>\n",
       "    </tr>\n",
       "    <tr>\n",
       "      <th>819</th>\n",
       "      <td>1456 EAGLESFIELD LN</td>\n",
       "      <td>LINCOLN</td>\n",
       "      <td>436746</td>\n",
       "      <td>352.402455</td>\n",
       "    </tr>\n",
       "    <tr>\n",
       "      <th>880</th>\n",
       "      <td>1536 STONEY CROSS LN</td>\n",
       "      <td>LINCOLN</td>\n",
       "      <td>433500</td>\n",
       "      <td>349.040093</td>\n",
       "    </tr>\n",
       "    <tr>\n",
       "      <th>879</th>\n",
       "      <td>1515 EL CAMINO VERDE DR</td>\n",
       "      <td>LINCOLN</td>\n",
       "      <td>400000</td>\n",
       "      <td>314.339186</td>\n",
       "    </tr>\n",
       "    <tr>\n",
       "      <th>878</th>\n",
       "      <td>201 KIRKLAND CT</td>\n",
       "      <td>LINCOLN</td>\n",
       "      <td>389000</td>\n",
       "      <td>302.944858</td>\n",
       "    </tr>\n",
       "    <tr>\n",
       "      <th>877</th>\n",
       "      <td>1965 LAURELHURST LN</td>\n",
       "      <td>LINCOLN</td>\n",
       "      <td>350000</td>\n",
       "      <td>262.546788</td>\n",
       "    </tr>\n",
       "    <tr>\n",
       "      <th>151</th>\n",
       "      <td>1409 47TH ST</td>\n",
       "      <td>SACRAMENTO</td>\n",
       "      <td>699000</td>\n",
       "      <td>253.501659</td>\n",
       "    </tr>\n",
       "    <tr>\n",
       "      <th>818</th>\n",
       "      <td>2251 LAMPLIGHT LN</td>\n",
       "      <td>LINCOLN</td>\n",
       "      <td>330000</td>\n",
       "      <td>241.829828</td>\n",
       "    </tr>\n",
       "    <tr>\n",
       "      <th>876</th>\n",
       "      <td>1440 EMERALD LN</td>\n",
       "      <td>LINCOLN</td>\n",
       "      <td>330000</td>\n",
       "      <td>241.829828</td>\n",
       "    </tr>\n",
       "    <tr>\n",
       "      <th>76</th>\n",
       "      <td>4004 CRESTA WAY</td>\n",
       "      <td>SACRAMENTO</td>\n",
       "      <td>660000</td>\n",
       "      <td>233.778390</td>\n",
       "    </tr>\n",
       "  </tbody>\n",
       "</table>\n",
       "</div>"
      ],
      "text/plain": [
       "                      street        city   price           %\n",
       "821          408 KIRKWOOD CT     LINCOLN  512000  430.354158\n",
       "819      1456 EAGLESFIELD LN     LINCOLN  436746  352.402455\n",
       "880     1536 STONEY CROSS LN     LINCOLN  433500  349.040093\n",
       "879  1515 EL CAMINO VERDE DR     LINCOLN  400000  314.339186\n",
       "878          201 KIRKLAND CT     LINCOLN  389000  302.944858\n",
       "877      1965 LAURELHURST LN     LINCOLN  350000  262.546788\n",
       "151             1409 47TH ST  SACRAMENTO  699000  253.501659\n",
       "818        2251 LAMPLIGHT LN     LINCOLN  330000  241.829828\n",
       "876          1440 EMERALD LN     LINCOLN  330000  241.829828\n",
       "76           4004 CRESTA WAY  SACRAMENTO  660000  233.778390"
      ]
     },
     "execution_count": 213,
     "metadata": {},
     "output_type": "execute_result"
    }
   ],
   "source": [
    "estate[[\"street\",\"city\",\"price\",\"%\"]].sort_values(by=\"%\", ascending=False)[:10]"
   ]
  },
  {
   "cell_type": "markdown",
   "metadata": {},
   "source": [
    "### A more complex calculations\n",
    "\n",
    "How many properties in each city is more expensive than city's average by at least 25%?"
   ]
  },
  {
   "cell_type": "code",
   "execution_count": 214,
   "metadata": {},
   "outputs": [
    {
     "data": {
      "text/html": [
       "<div>\n",
       "<style scoped>\n",
       "    .dataframe tbody tr th:only-of-type {\n",
       "        vertical-align: middle;\n",
       "    }\n",
       "\n",
       "    .dataframe tbody tr th {\n",
       "        vertical-align: top;\n",
       "    }\n",
       "\n",
       "    .dataframe thead th {\n",
       "        text-align: right;\n",
       "    }\n",
       "</style>\n",
       "<table border=\"1\" class=\"dataframe\">\n",
       "  <thead>\n",
       "    <tr style=\"text-align: right;\">\n",
       "      <th></th>\n",
       "      <th>c</th>\n",
       "    </tr>\n",
       "    <tr>\n",
       "      <th>city</th>\n",
       "      <th></th>\n",
       "    </tr>\n",
       "  </thead>\n",
       "  <tbody>\n",
       "    <tr>\n",
       "      <th>ANTELOPE</th>\n",
       "      <td>33</td>\n",
       "    </tr>\n",
       "    <tr>\n",
       "      <th>AUBURN</th>\n",
       "      <td>5</td>\n",
       "    </tr>\n",
       "    <tr>\n",
       "      <th>CAMERON PARK</th>\n",
       "      <td>9</td>\n",
       "    </tr>\n",
       "    <tr>\n",
       "      <th>CARMICHAEL</th>\n",
       "      <td>20</td>\n",
       "    </tr>\n",
       "    <tr>\n",
       "      <th>CITRUS HEIGHTS</th>\n",
       "      <td>35</td>\n",
       "    </tr>\n",
       "  </tbody>\n",
       "</table>\n",
       "</div>"
      ],
      "text/plain": [
       "                 c\n",
       "city              \n",
       "ANTELOPE        33\n",
       "AUBURN           5\n",
       "CAMERON PARK     9\n",
       "CARMICHAEL      20\n",
       "CITRUS HEIGHTS  35"
      ]
     },
     "execution_count": 214,
     "metadata": {},
     "output_type": "execute_result"
    }
   ],
   "source": [
    "city_count = estate.groupby(\"city\").size().to_frame(\"c\")\n",
    "city_count.head()"
   ]
  },
  {
   "cell_type": "code",
   "execution_count": 215,
   "metadata": {},
   "outputs": [
    {
     "data": {
      "text/html": [
       "<div>\n",
       "<style scoped>\n",
       "    .dataframe tbody tr th:only-of-type {\n",
       "        vertical-align: middle;\n",
       "    }\n",
       "\n",
       "    .dataframe tbody tr th {\n",
       "        vertical-align: top;\n",
       "    }\n",
       "\n",
       "    .dataframe thead th {\n",
       "        text-align: right;\n",
       "    }\n",
       "</style>\n",
       "<table border=\"1\" class=\"dataframe\">\n",
       "  <thead>\n",
       "    <tr style=\"text-align: right;\">\n",
       "      <th></th>\n",
       "      <th>n</th>\n",
       "    </tr>\n",
       "    <tr>\n",
       "      <th>city</th>\n",
       "      <th></th>\n",
       "    </tr>\n",
       "  </thead>\n",
       "  <tbody>\n",
       "    <tr>\n",
       "      <th>ANTELOPE</th>\n",
       "      <td>6</td>\n",
       "    </tr>\n",
       "    <tr>\n",
       "      <th>AUBURN</th>\n",
       "      <td>1</td>\n",
       "    </tr>\n",
       "    <tr>\n",
       "      <th>CAMERON PARK</th>\n",
       "      <td>3</td>\n",
       "    </tr>\n",
       "    <tr>\n",
       "      <th>CARMICHAEL</th>\n",
       "      <td>5</td>\n",
       "    </tr>\n",
       "    <tr>\n",
       "      <th>CITRUS HEIGHTS</th>\n",
       "      <td>8</td>\n",
       "    </tr>\n",
       "    <tr>\n",
       "      <th>EL DORADO HILLS</th>\n",
       "      <td>4</td>\n",
       "    </tr>\n",
       "    <tr>\n",
       "      <th>ELK GROVE</th>\n",
       "      <td>24</td>\n",
       "    </tr>\n",
       "    <tr>\n",
       "      <th>FAIR OAKS</th>\n",
       "      <td>2</td>\n",
       "    </tr>\n",
       "    <tr>\n",
       "      <th>FOLSOM</th>\n",
       "      <td>4</td>\n",
       "    </tr>\n",
       "    <tr>\n",
       "      <th>GALT</th>\n",
       "      <td>6</td>\n",
       "    </tr>\n",
       "  </tbody>\n",
       "</table>\n",
       "</div>"
      ],
      "text/plain": [
       "                  n\n",
       "city               \n",
       "ANTELOPE          6\n",
       "AUBURN            1\n",
       "CAMERON PARK      3\n",
       "CARMICHAEL        5\n",
       "CITRUS HEIGHTS    8\n",
       "EL DORADO HILLS   4\n",
       "ELK GROVE        24\n",
       "FAIR OAKS         2\n",
       "FOLSOM            4\n",
       "GALT              6"
      ]
     },
     "execution_count": 215,
     "metadata": {},
     "output_type": "execute_result"
    }
   ],
   "source": [
    "cx = estate[estate[\"%\"] > 25][[\"city\",\"%\"]].groupby(\"city\").size().to_frame(\"n\")\n",
    "cx[:10]"
   ]
  },
  {
   "cell_type": "markdown",
   "metadata": {},
   "source": [
    "And how many % of properties are that expensive? "
   ]
  },
  {
   "cell_type": "code",
   "execution_count": 216,
   "metadata": {},
   "outputs": [
    {
     "data": {
      "text/html": [
       "<div>\n",
       "<style scoped>\n",
       "    .dataframe tbody tr th:only-of-type {\n",
       "        vertical-align: middle;\n",
       "    }\n",
       "\n",
       "    .dataframe tbody tr th {\n",
       "        vertical-align: top;\n",
       "    }\n",
       "\n",
       "    .dataframe thead th {\n",
       "        text-align: right;\n",
       "    }\n",
       "</style>\n",
       "<table border=\"1\" class=\"dataframe\">\n",
       "  <thead>\n",
       "    <tr style=\"text-align: right;\">\n",
       "      <th></th>\n",
       "      <th>n</th>\n",
       "      <th>c</th>\n",
       "      <th>%</th>\n",
       "    </tr>\n",
       "    <tr>\n",
       "      <th>city</th>\n",
       "      <th></th>\n",
       "      <th></th>\n",
       "      <th></th>\n",
       "    </tr>\n",
       "  </thead>\n",
       "  <tbody>\n",
       "    <tr>\n",
       "      <th>ANTELOPE</th>\n",
       "      <td>6</td>\n",
       "      <td>33</td>\n",
       "      <td>18.181818</td>\n",
       "    </tr>\n",
       "    <tr>\n",
       "      <th>AUBURN</th>\n",
       "      <td>1</td>\n",
       "      <td>5</td>\n",
       "      <td>20.000000</td>\n",
       "    </tr>\n",
       "    <tr>\n",
       "      <th>CAMERON PARK</th>\n",
       "      <td>3</td>\n",
       "      <td>9</td>\n",
       "      <td>33.333333</td>\n",
       "    </tr>\n",
       "    <tr>\n",
       "      <th>CARMICHAEL</th>\n",
       "      <td>5</td>\n",
       "      <td>20</td>\n",
       "      <td>25.000000</td>\n",
       "    </tr>\n",
       "    <tr>\n",
       "      <th>CITRUS HEIGHTS</th>\n",
       "      <td>8</td>\n",
       "      <td>35</td>\n",
       "      <td>22.857143</td>\n",
       "    </tr>\n",
       "    <tr>\n",
       "      <th>EL DORADO HILLS</th>\n",
       "      <td>4</td>\n",
       "      <td>23</td>\n",
       "      <td>17.391304</td>\n",
       "    </tr>\n",
       "    <tr>\n",
       "      <th>ELK GROVE</th>\n",
       "      <td>24</td>\n",
       "      <td>114</td>\n",
       "      <td>21.052632</td>\n",
       "    </tr>\n",
       "    <tr>\n",
       "      <th>FAIR OAKS</th>\n",
       "      <td>2</td>\n",
       "      <td>9</td>\n",
       "      <td>22.222222</td>\n",
       "    </tr>\n",
       "    <tr>\n",
       "      <th>FOLSOM</th>\n",
       "      <td>4</td>\n",
       "      <td>17</td>\n",
       "      <td>23.529412</td>\n",
       "    </tr>\n",
       "    <tr>\n",
       "      <th>GALT</th>\n",
       "      <td>6</td>\n",
       "      <td>21</td>\n",
       "      <td>28.571429</td>\n",
       "    </tr>\n",
       "    <tr>\n",
       "      <th>GOLD RIVER</th>\n",
       "      <td>1</td>\n",
       "      <td>4</td>\n",
       "      <td>25.000000</td>\n",
       "    </tr>\n",
       "    <tr>\n",
       "      <th>LINCOLN</th>\n",
       "      <td>22</td>\n",
       "      <td>72</td>\n",
       "      <td>30.555556</td>\n",
       "    </tr>\n",
       "    <tr>\n",
       "      <th>LOOMIS</th>\n",
       "      <td>1</td>\n",
       "      <td>2</td>\n",
       "      <td>50.000000</td>\n",
       "    </tr>\n",
       "    <tr>\n",
       "      <th>NORTH HIGHLANDS</th>\n",
       "      <td>2</td>\n",
       "      <td>21</td>\n",
       "      <td>9.523810</td>\n",
       "    </tr>\n",
       "    <tr>\n",
       "      <th>ORANGEVALE</th>\n",
       "      <td>1</td>\n",
       "      <td>11</td>\n",
       "      <td>9.090909</td>\n",
       "    </tr>\n",
       "    <tr>\n",
       "      <th>PLACERVILLE</th>\n",
       "      <td>3</td>\n",
       "      <td>10</td>\n",
       "      <td>30.000000</td>\n",
       "    </tr>\n",
       "    <tr>\n",
       "      <th>RANCHO CORDOVA</th>\n",
       "      <td>8</td>\n",
       "      <td>28</td>\n",
       "      <td>28.571429</td>\n",
       "    </tr>\n",
       "    <tr>\n",
       "      <th>RANCHO MURIETA</th>\n",
       "      <td>1</td>\n",
       "      <td>3</td>\n",
       "      <td>33.333333</td>\n",
       "    </tr>\n",
       "    <tr>\n",
       "      <th>RIO LINDA</th>\n",
       "      <td>5</td>\n",
       "      <td>13</td>\n",
       "      <td>38.461538</td>\n",
       "    </tr>\n",
       "    <tr>\n",
       "      <th>ROCKLIN</th>\n",
       "      <td>4</td>\n",
       "      <td>17</td>\n",
       "      <td>23.529412</td>\n",
       "    </tr>\n",
       "    <tr>\n",
       "      <th>ROSEVILLE</th>\n",
       "      <td>11</td>\n",
       "      <td>48</td>\n",
       "      <td>22.916667</td>\n",
       "    </tr>\n",
       "    <tr>\n",
       "      <th>SACRAMENTO</th>\n",
       "      <td>100</td>\n",
       "      <td>439</td>\n",
       "      <td>22.779043</td>\n",
       "    </tr>\n",
       "    <tr>\n",
       "      <th>WILTON</th>\n",
       "      <td>1</td>\n",
       "      <td>5</td>\n",
       "      <td>20.000000</td>\n",
       "    </tr>\n",
       "  </tbody>\n",
       "</table>\n",
       "</div>"
      ],
      "text/plain": [
       "                   n    c          %\n",
       "city                                \n",
       "ANTELOPE           6   33  18.181818\n",
       "AUBURN             1    5  20.000000\n",
       "CAMERON PARK       3    9  33.333333\n",
       "CARMICHAEL         5   20  25.000000\n",
       "CITRUS HEIGHTS     8   35  22.857143\n",
       "EL DORADO HILLS    4   23  17.391304\n",
       "ELK GROVE         24  114  21.052632\n",
       "FAIR OAKS          2    9  22.222222\n",
       "FOLSOM             4   17  23.529412\n",
       "GALT               6   21  28.571429\n",
       "GOLD RIVER         1    4  25.000000\n",
       "LINCOLN           22   72  30.555556\n",
       "LOOMIS             1    2  50.000000\n",
       "NORTH HIGHLANDS    2   21   9.523810\n",
       "ORANGEVALE         1   11   9.090909\n",
       "PLACERVILLE        3   10  30.000000\n",
       "RANCHO CORDOVA     8   28  28.571429\n",
       "RANCHO MURIETA     1    3  33.333333\n",
       "RIO LINDA          5   13  38.461538\n",
       "ROCKLIN            4   17  23.529412\n",
       "ROSEVILLE         11   48  22.916667\n",
       "SACRAMENTO       100  439  22.779043\n",
       "WILTON             1    5  20.000000"
      ]
     },
     "execution_count": 216,
     "metadata": {},
     "output_type": "execute_result"
    }
   ],
   "source": [
    "cz = cx.join(city_count)\n",
    "cz[\"%\"] = 100*cz[\"n\"] / cz[\"c\"]\n",
    "cz"
   ]
  },
  {
   "cell_type": "markdown",
   "metadata": {},
   "source": [
    "### Distance from the city centre\n",
    "\n",
    "Let's apply a function"
   ]
  },
  {
   "cell_type": "code",
   "execution_count": 217,
   "metadata": {},
   "outputs": [
    {
     "data": {
      "text/html": [
       "<div>\n",
       "<style scoped>\n",
       "    .dataframe tbody tr th:only-of-type {\n",
       "        vertical-align: middle;\n",
       "    }\n",
       "\n",
       "    .dataframe tbody tr th {\n",
       "        vertical-align: top;\n",
       "    }\n",
       "\n",
       "    .dataframe thead th {\n",
       "        text-align: right;\n",
       "    }\n",
       "</style>\n",
       "<table border=\"1\" class=\"dataframe\">\n",
       "  <thead>\n",
       "    <tr style=\"text-align: right;\">\n",
       "      <th></th>\n",
       "      <th>Unnamed: 0</th>\n",
       "      <th>city</th>\n",
       "      <th>price</th>\n",
       "      <th>latitude</th>\n",
       "      <th>longitude</th>\n",
       "    </tr>\n",
       "  </thead>\n",
       "  <tbody>\n",
       "    <tr>\n",
       "      <th>0</th>\n",
       "      <td>85</td>\n",
       "      <td>MATHER</td>\n",
       "      <td>237800.0</td>\n",
       "      <td>38.547991</td>\n",
       "      <td>-121.280483</td>\n",
       "    </tr>\n",
       "    <tr>\n",
       "      <th>1</th>\n",
       "      <td>106</td>\n",
       "      <td>POLLOCK PINES</td>\n",
       "      <td>280908.0</td>\n",
       "      <td>38.754850</td>\n",
       "      <td>-120.604760</td>\n",
       "    </tr>\n",
       "    <tr>\n",
       "      <th>2</th>\n",
       "      <td>142</td>\n",
       "      <td>GREENWOOD</td>\n",
       "      <td>395000.0</td>\n",
       "      <td>38.945357</td>\n",
       "      <td>-120.908822</td>\n",
       "    </tr>\n",
       "    <tr>\n",
       "      <th>3</th>\n",
       "      <td>146</td>\n",
       "      <td>RANCHO CORDOVA</td>\n",
       "      <td>430000.0</td>\n",
       "      <td>38.550617</td>\n",
       "      <td>-121.235260</td>\n",
       "    </tr>\n",
       "    <tr>\n",
       "      <th>4</th>\n",
       "      <td>151</td>\n",
       "      <td>ELK GROVE</td>\n",
       "      <td>510000.0</td>\n",
       "      <td>38.382530</td>\n",
       "      <td>-121.428038</td>\n",
       "    </tr>\n",
       "  </tbody>\n",
       "</table>\n",
       "</div>"
      ],
      "text/plain": [
       "   Unnamed: 0            city     price   latitude   longitude\n",
       "0          85          MATHER  237800.0  38.547991 -121.280483\n",
       "1         106   POLLOCK PINES  280908.0  38.754850 -120.604760\n",
       "2         142       GREENWOOD  395000.0  38.945357 -120.908822\n",
       "3         146  RANCHO CORDOVA  430000.0  38.550617 -121.235260\n",
       "4         151       ELK GROVE  510000.0  38.382530 -121.428038"
      ]
     },
     "execution_count": 217,
     "metadata": {},
     "output_type": "execute_result"
    }
   ],
   "source": [
    "city_centre = pd.read_csv(\"data/city_centre.csv\", sep=\",\")\n",
    "city_centre[:5]"
   ]
  },
  {
   "cell_type": "code",
   "execution_count": 218,
   "metadata": {},
   "outputs": [],
   "source": [
    "def dist(lat1, lng1, lat2, lng2):\n",
    "    r = 6371 # km\n",
    "    dlat = math.radians(lat2-lat1)\n",
    "    dlng = math.radians(lng2-lng1) \n",
    "    a = math.sin(dlat/2) * math.sin(dlat/2) + \\\n",
    "        math.cos(math.radians(lat1)) * math.cos(math.radians(lat2)) * \\\n",
    "        math.sin(dlng/2) * math.sin(dlng/2)\n",
    "    c = 2 * math.atan2(math.sqrt(a), math.sqrt(1-a))\n",
    "    return r * c"
   ]
  },
  {
   "cell_type": "code",
   "execution_count": 219,
   "metadata": {},
   "outputs": [],
   "source": [
    "def find_dist(r):\n",
    "    return dist(r[\"latitude\"], r[\"longitude\"], r[\"latitude_centre\"], r[\"longitude_centre\"])"
   ]
  },
  {
   "cell_type": "code",
   "execution_count": 220,
   "metadata": {},
   "outputs": [],
   "source": [
    "estate = pd.merge(estate, city_centre, how=\"inner\", on=\"city\", suffixes=(\"\", \"_centre\"))"
   ]
  },
  {
   "cell_type": "code",
   "execution_count": 221,
   "metadata": {},
   "outputs": [
    {
     "data": {
      "text/html": [
       "<div>\n",
       "<style scoped>\n",
       "    .dataframe tbody tr th:only-of-type {\n",
       "        vertical-align: middle;\n",
       "    }\n",
       "\n",
       "    .dataframe tbody tr th {\n",
       "        vertical-align: top;\n",
       "    }\n",
       "\n",
       "    .dataframe thead th {\n",
       "        text-align: right;\n",
       "    }\n",
       "</style>\n",
       "<table border=\"1\" class=\"dataframe\">\n",
       "  <thead>\n",
       "    <tr style=\"text-align: right;\">\n",
       "      <th></th>\n",
       "      <th>street</th>\n",
       "      <th>type</th>\n",
       "      <th>city</th>\n",
       "      <th>price</th>\n",
       "      <th>latitude</th>\n",
       "      <th>longitude</th>\n",
       "      <th>mean</th>\n",
       "      <th>%</th>\n",
       "      <th>Unnamed: 0</th>\n",
       "      <th>price_centre</th>\n",
       "      <th>latitude_centre</th>\n",
       "      <th>longitude_centre</th>\n",
       "      <th>dist</th>\n",
       "    </tr>\n",
       "  </thead>\n",
       "  <tbody>\n",
       "    <tr>\n",
       "      <th>0</th>\n",
       "      <td>3526 HIGH ST</td>\n",
       "      <td>Residential</td>\n",
       "      <td>SACRAMENTO</td>\n",
       "      <td>59222</td>\n",
       "      <td>38.631913</td>\n",
       "      <td>-121.434879</td>\n",
       "      <td>197735.98861</td>\n",
       "      <td>-70.049964</td>\n",
       "      <td>333</td>\n",
       "      <td>699000.0</td>\n",
       "      <td>38.563244</td>\n",
       "      <td>-121.446876</td>\n",
       "      <td>7.706494</td>\n",
       "    </tr>\n",
       "    <tr>\n",
       "      <th>1</th>\n",
       "      <td>51 OMAHA CT</td>\n",
       "      <td>Residential</td>\n",
       "      <td>SACRAMENTO</td>\n",
       "      <td>68212</td>\n",
       "      <td>38.478902</td>\n",
       "      <td>-121.431028</td>\n",
       "      <td>197735.98861</td>\n",
       "      <td>-65.503498</td>\n",
       "      <td>333</td>\n",
       "      <td>699000.0</td>\n",
       "      <td>38.563244</td>\n",
       "      <td>-121.446876</td>\n",
       "      <td>9.479204</td>\n",
       "    </tr>\n",
       "    <tr>\n",
       "      <th>2</th>\n",
       "      <td>2796 BRANCH ST</td>\n",
       "      <td>Residential</td>\n",
       "      <td>SACRAMENTO</td>\n",
       "      <td>68880</td>\n",
       "      <td>38.618305</td>\n",
       "      <td>-121.443839</td>\n",
       "      <td>197735.98861</td>\n",
       "      <td>-65.165673</td>\n",
       "      <td>333</td>\n",
       "      <td>699000.0</td>\n",
       "      <td>38.563244</td>\n",
       "      <td>-121.446876</td>\n",
       "      <td>6.128191</td>\n",
       "    </tr>\n",
       "    <tr>\n",
       "      <th>3</th>\n",
       "      <td>2805 JANETTE WAY</td>\n",
       "      <td>Residential</td>\n",
       "      <td>SACRAMENTO</td>\n",
       "      <td>69307</td>\n",
       "      <td>38.616835</td>\n",
       "      <td>-121.439146</td>\n",
       "      <td>197735.98861</td>\n",
       "      <td>-64.949729</td>\n",
       "      <td>333</td>\n",
       "      <td>699000.0</td>\n",
       "      <td>38.563244</td>\n",
       "      <td>-121.446876</td>\n",
       "      <td>5.996800</td>\n",
       "    </tr>\n",
       "    <tr>\n",
       "      <th>4</th>\n",
       "      <td>6001 MCMAHON DR</td>\n",
       "      <td>Residential</td>\n",
       "      <td>SACRAMENTO</td>\n",
       "      <td>81900</td>\n",
       "      <td>38.519470</td>\n",
       "      <td>-121.435768</td>\n",
       "      <td>197735.98861</td>\n",
       "      <td>-58.581136</td>\n",
       "      <td>333</td>\n",
       "      <td>699000.0</td>\n",
       "      <td>38.563244</td>\n",
       "      <td>-121.446876</td>\n",
       "      <td>4.962394</td>\n",
       "    </tr>\n",
       "    <tr>\n",
       "      <th>5</th>\n",
       "      <td>5828 PEPPERMILL CT</td>\n",
       "      <td>Condo</td>\n",
       "      <td>SACRAMENTO</td>\n",
       "      <td>89921</td>\n",
       "      <td>38.662595</td>\n",
       "      <td>-121.327813</td>\n",
       "      <td>197735.98861</td>\n",
       "      <td>-54.524717</td>\n",
       "      <td>333</td>\n",
       "      <td>699000.0</td>\n",
       "      <td>38.563244</td>\n",
       "      <td>-121.446876</td>\n",
       "      <td>15.134700</td>\n",
       "    </tr>\n",
       "    <tr>\n",
       "      <th>6</th>\n",
       "      <td>6048 OGDEN NASH WAY</td>\n",
       "      <td>Residential</td>\n",
       "      <td>SACRAMENTO</td>\n",
       "      <td>90895</td>\n",
       "      <td>38.681659</td>\n",
       "      <td>-121.351705</td>\n",
       "      <td>197735.98861</td>\n",
       "      <td>-54.032141</td>\n",
       "      <td>333</td>\n",
       "      <td>699000.0</td>\n",
       "      <td>38.563244</td>\n",
       "      <td>-121.446876</td>\n",
       "      <td>15.547717</td>\n",
       "    </tr>\n",
       "    <tr>\n",
       "      <th>7</th>\n",
       "      <td>2561 19TH AVE</td>\n",
       "      <td>Residential</td>\n",
       "      <td>SACRAMENTO</td>\n",
       "      <td>91002</td>\n",
       "      <td>38.535092</td>\n",
       "      <td>-121.481367</td>\n",
       "      <td>197735.98861</td>\n",
       "      <td>-53.978029</td>\n",
       "      <td>333</td>\n",
       "      <td>699000.0</td>\n",
       "      <td>38.563244</td>\n",
       "      <td>-121.446876</td>\n",
       "      <td>4.335403</td>\n",
       "    </tr>\n",
       "    <tr>\n",
       "      <th>8</th>\n",
       "      <td>645 MORRISON AVE</td>\n",
       "      <td>Residential</td>\n",
       "      <td>SACRAMENTO</td>\n",
       "      <td>100309</td>\n",
       "      <td>38.637663</td>\n",
       "      <td>-121.451520</td>\n",
       "      <td>197735.98861</td>\n",
       "      <td>-49.271248</td>\n",
       "      <td>333</td>\n",
       "      <td>699000.0</td>\n",
       "      <td>38.563244</td>\n",
       "      <td>-121.446876</td>\n",
       "      <td>8.284850</td>\n",
       "    </tr>\n",
       "    <tr>\n",
       "      <th>9</th>\n",
       "      <td>4085 FAWN CIR</td>\n",
       "      <td>Residential</td>\n",
       "      <td>SACRAMENTO</td>\n",
       "      <td>106250</td>\n",
       "      <td>38.470746</td>\n",
       "      <td>-121.458918</td>\n",
       "      <td>197735.98861</td>\n",
       "      <td>-46.266736</td>\n",
       "      <td>333</td>\n",
       "      <td>699000.0</td>\n",
       "      <td>38.563244</td>\n",
       "      <td>-121.446876</td>\n",
       "      <td>10.338529</td>\n",
       "    </tr>\n",
       "  </tbody>\n",
       "</table>\n",
       "</div>"
      ],
      "text/plain": [
       "                street         type        city   price   latitude  \\\n",
       "0         3526 HIGH ST  Residential  SACRAMENTO   59222  38.631913   \n",
       "1          51 OMAHA CT  Residential  SACRAMENTO   68212  38.478902   \n",
       "2       2796 BRANCH ST  Residential  SACRAMENTO   68880  38.618305   \n",
       "3     2805 JANETTE WAY  Residential  SACRAMENTO   69307  38.616835   \n",
       "4      6001 MCMAHON DR  Residential  SACRAMENTO   81900  38.519470   \n",
       "5   5828 PEPPERMILL CT        Condo  SACRAMENTO   89921  38.662595   \n",
       "6  6048 OGDEN NASH WAY  Residential  SACRAMENTO   90895  38.681659   \n",
       "7        2561 19TH AVE  Residential  SACRAMENTO   91002  38.535092   \n",
       "8     645 MORRISON AVE  Residential  SACRAMENTO  100309  38.637663   \n",
       "9        4085 FAWN CIR  Residential  SACRAMENTO  106250  38.470746   \n",
       "\n",
       "    longitude          mean          %  Unnamed: 0  price_centre  \\\n",
       "0 -121.434879  197735.98861 -70.049964         333      699000.0   \n",
       "1 -121.431028  197735.98861 -65.503498         333      699000.0   \n",
       "2 -121.443839  197735.98861 -65.165673         333      699000.0   \n",
       "3 -121.439146  197735.98861 -64.949729         333      699000.0   \n",
       "4 -121.435768  197735.98861 -58.581136         333      699000.0   \n",
       "5 -121.327813  197735.98861 -54.524717         333      699000.0   \n",
       "6 -121.351705  197735.98861 -54.032141         333      699000.0   \n",
       "7 -121.481367  197735.98861 -53.978029         333      699000.0   \n",
       "8 -121.451520  197735.98861 -49.271248         333      699000.0   \n",
       "9 -121.458918  197735.98861 -46.266736         333      699000.0   \n",
       "\n",
       "   latitude_centre  longitude_centre       dist  \n",
       "0        38.563244       -121.446876   7.706494  \n",
       "1        38.563244       -121.446876   9.479204  \n",
       "2        38.563244       -121.446876   6.128191  \n",
       "3        38.563244       -121.446876   5.996800  \n",
       "4        38.563244       -121.446876   4.962394  \n",
       "5        38.563244       -121.446876  15.134700  \n",
       "6        38.563244       -121.446876  15.547717  \n",
       "7        38.563244       -121.446876   4.335403  \n",
       "8        38.563244       -121.446876   8.284850  \n",
       "9        38.563244       -121.446876  10.338529  "
      ]
     },
     "execution_count": 221,
     "metadata": {},
     "output_type": "execute_result"
    }
   ],
   "source": [
    "estate[\"dist\"] = dist_city.apply(find_dist, axis=1)\n",
    "estate[:10]"
   ]
  },
  {
   "cell_type": "code",
   "execution_count": 222,
   "metadata": {},
   "outputs": [
    {
     "data": {
      "text/html": [
       "<div>\n",
       "<style scoped>\n",
       "    .dataframe tbody tr th:only-of-type {\n",
       "        vertical-align: middle;\n",
       "    }\n",
       "\n",
       "    .dataframe tbody tr th {\n",
       "        vertical-align: top;\n",
       "    }\n",
       "\n",
       "    .dataframe thead th {\n",
       "        text-align: right;\n",
       "    }\n",
       "</style>\n",
       "<table border=\"1\" class=\"dataframe\">\n",
       "  <thead>\n",
       "    <tr style=\"text-align: right;\">\n",
       "      <th></th>\n",
       "      <th>street</th>\n",
       "      <th>type</th>\n",
       "      <th>city</th>\n",
       "      <th>price</th>\n",
       "      <th>latitude</th>\n",
       "      <th>longitude</th>\n",
       "      <th>mean</th>\n",
       "      <th>%</th>\n",
       "      <th>Unnamed: 0</th>\n",
       "      <th>price_centre</th>\n",
       "      <th>latitude_centre</th>\n",
       "      <th>longitude_centre</th>\n",
       "      <th>dist</th>\n",
       "    </tr>\n",
       "  </thead>\n",
       "  <tbody>\n",
       "  </tbody>\n",
       "</table>\n",
       "</div>"
      ],
      "text/plain": [
       "Empty DataFrame\n",
       "Columns: [street, type, city, price, latitude, longitude, mean, %, Unnamed: 0, price_centre, latitude_centre, longitude_centre, dist]\n",
       "Index: []"
      ]
     },
     "execution_count": 222,
     "metadata": {},
     "output_type": "execute_result"
    }
   ],
   "source": [
    "estate[estate[\"dist\"].isnull()]"
   ]
  },
  {
   "cell_type": "code",
   "execution_count": 223,
   "metadata": {},
   "outputs": [
    {
     "data": {
      "text/plain": [
       "5.820878833941799"
      ]
     },
     "execution_count": 223,
     "metadata": {},
     "output_type": "execute_result"
    }
   ],
   "source": [
    "dist(38.807816, -121.270008, 38.772672, -121.220232)"
   ]
  },
  {
   "cell_type": "code",
   "execution_count": null,
   "metadata": {},
   "outputs": [],
   "source": []
  },
  {
   "cell_type": "code",
   "execution_count": null,
   "metadata": {},
   "outputs": [],
   "source": []
  },
  {
   "cell_type": "markdown",
   "metadata": {},
   "source": [
    "### Go graphical\n",
    "\n",
    "Let's plot the geographical distribution of the price / relative price to the city average / ..."
   ]
  },
  {
   "cell_type": "code",
   "execution_count": 224,
   "metadata": {},
   "outputs": [],
   "source": [
    "coords = [Point(coord) for coord in zip(estate[\"latitude\"], estate[\"longitude\"])]"
   ]
  },
  {
   "cell_type": "code",
   "execution_count": 225,
   "metadata": {},
   "outputs": [],
   "source": [
    "gf = geo.GeoDataFrame(estate, geometry=coords)"
   ]
  },
  {
   "cell_type": "code",
   "execution_count": 226,
   "metadata": {},
   "outputs": [
    {
     "data": {
      "text/plain": [
       "<matplotlib.axes._subplots.AxesSubplot at 0x10b532198>"
      ]
     },
     "execution_count": 226,
     "metadata": {},
     "output_type": "execute_result"
    },
    {
     "data": {
      "image/png": "[encoded data removed]",
      "text/plain": [
       "<Figure size 1440x576 with 2 Axes>"
      ]
     },
     "metadata": {
      "needs_background": "light"
     },
     "output_type": "display_data"
    }
   ],
   "source": [
    "gf[gf[\"%\"] > 0].plot(column=\"%\", legend=True)"
   ]
  },
  {
   "cell_type": "code",
   "execution_count": 227,
   "metadata": {},
   "outputs": [
    {
     "data": {
      "text/plain": [
       "<matplotlib.axes._subplots.AxesSubplot at 0x124b58a58>"
      ]
     },
     "execution_count": 227,
     "metadata": {},
     "output_type": "execute_result"
    },
    {
     "data": {
      "image/png": "[encoded data removed]",
      "text/plain": [
       "<Figure size 1440x576 with 2 Axes>"
      ]
     },
     "metadata": {
      "needs_background": "light"
     },
     "output_type": "display_data"
    }
   ],
   "source": [
    "gf.plot(column=\"price\", legend=True)"
   ]
  },
  {
   "cell_type": "code",
   "execution_count": null,
   "metadata": {},
   "outputs": [],
   "source": []
  },
  {
   "cell_type": "markdown",
   "metadata": {},
   "source": [
    "### Plot distance from the centre"
   ]
  },
  {
   "cell_type": "code",
   "execution_count": 228,
   "metadata": {},
   "outputs": [
    {
     "data": {
      "text/plain": [
       "<matplotlib.axes._subplots.AxesSubplot at 0x124ad4278>"
      ]
     },
     "execution_count": 228,
     "metadata": {},
     "output_type": "execute_result"
    },
    {
     "data": {
      "image/png": "[encoded data removed]",
      "text/plain": [
       "<Figure size 1440x576 with 2 Axes>"
      ]
     },
     "metadata": {
      "needs_background": "light"
     },
     "output_type": "display_data"
    }
   ],
   "source": [
    "gf[gf[\"dist\"]>0].plot(column=\"dist\", legend=True)"
   ]
  },
  {
   "cell_type": "code",
   "execution_count": null,
   "metadata": {},
   "outputs": [],
   "source": []
  },
  {
   "cell_type": "markdown",
   "metadata": {},
   "source": [
    "### Plot histogram of prices by city\n",
    "\n",
    "Can you change the following code to plot price histograms by type of properties instead of city?"
   ]
  },
  {
   "cell_type": "code",
   "execution_count": 229,
   "metadata": {},
   "outputs": [
    {
     "data": {
      "text/plain": [
       "(1551, 884790)"
      ]
     },
     "execution_count": 229,
     "metadata": {},
     "output_type": "execute_result"
    }
   ],
   "source": [
    "max_price = estate[\"price\"].max()\n",
    "min_price = estate[\"price\"].min()\n",
    "(min_price, max_price)"
   ]
  },
  {
   "cell_type": "code",
   "execution_count": 230,
   "metadata": {},
   "outputs": [
    {
     "data": {
      "image/png": "[encoded data removed]",
      "text/plain": [
       "<Figure size 1440x576 with 1 Axes>"
      ]
     },
     "metadata": {
      "needs_background": "light"
     },
     "output_type": "display_data"
    }
   ],
   "source": [
    "for city in [\"LINCOLN\", \"SACRAMENTO\", \"ELVERTA\"]:\n",
    "    x = estate[estate[\"city\"] == city][\"price\"]\n",
    "    plt.hist(x, bins=25, alpha=0.5, label=city)\n",
    "plt.legend(loc=\"upper right\")\n",
    "plt.show()"
   ]
  },
  {
   "cell_type": "markdown",
   "metadata": {},
   "source": [
    "Try plotting the histogram of prices by each property type"
   ]
  },
  {
   "cell_type": "code",
   "execution_count": 232,
   "metadata": {},
   "outputs": [
    {
     "data": {
      "image/png": "[encoded data removed]",
      "text/plain": [
       "<Figure size 1440x576 with 1 Axes>"
      ]
     },
     "metadata": {
      "needs_background": "light"
     },
     "output_type": "display_data"
    }
   ],
   "source": [
    "types = estate[\"type\"].unique()\n",
    "for ty in types:\n",
    "    x = estate[estate[\"type\"] == ty][\"price\"]\n",
    "    plt.hist(x, bins=50, alpha=0.5, label=ty)\n",
    "plt.legend(loc=\"upper right\")\n",
    "plt.show()"
   ]
  },
  {
   "cell_type": "markdown",
   "metadata": {},
   "source": [
    "### Extract street names"
   ]
  },
  {
   "cell_type": "code",
   "execution_count": 233,
   "metadata": {},
   "outputs": [
    {
     "data": {
      "text/html": [
       "<div>\n",
       "<style scoped>\n",
       "    .dataframe tbody tr th:only-of-type {\n",
       "        vertical-align: middle;\n",
       "    }\n",
       "\n",
       "    .dataframe tbody tr th {\n",
       "        vertical-align: top;\n",
       "    }\n",
       "\n",
       "    .dataframe thead th {\n",
       "        text-align: right;\n",
       "    }\n",
       "</style>\n",
       "<table border=\"1\" class=\"dataframe\">\n",
       "  <thead>\n",
       "    <tr style=\"text-align: right;\">\n",
       "      <th></th>\n",
       "      <th>str</th>\n",
       "      <th>street</th>\n",
       "    </tr>\n",
       "  </thead>\n",
       "  <tbody>\n",
       "    <tr>\n",
       "      <th>0</th>\n",
       "      <td>HIGH ST</td>\n",
       "      <td>3526 HIGH ST</td>\n",
       "    </tr>\n",
       "    <tr>\n",
       "      <th>1</th>\n",
       "      <td>OMAHA CT</td>\n",
       "      <td>51 OMAHA CT</td>\n",
       "    </tr>\n",
       "    <tr>\n",
       "      <th>2</th>\n",
       "      <td>BRANCH ST</td>\n",
       "      <td>2796 BRANCH ST</td>\n",
       "    </tr>\n",
       "    <tr>\n",
       "      <th>3</th>\n",
       "      <td>JANETTE WAY</td>\n",
       "      <td>2805 JANETTE WAY</td>\n",
       "    </tr>\n",
       "    <tr>\n",
       "      <th>4</th>\n",
       "      <td>MCMAHON DR</td>\n",
       "      <td>6001 MCMAHON DR</td>\n",
       "    </tr>\n",
       "    <tr>\n",
       "      <th>5</th>\n",
       "      <td>PEPPERMILL CT</td>\n",
       "      <td>5828 PEPPERMILL CT</td>\n",
       "    </tr>\n",
       "    <tr>\n",
       "      <th>6</th>\n",
       "      <td>OGDEN NASH WAY</td>\n",
       "      <td>6048 OGDEN NASH WAY</td>\n",
       "    </tr>\n",
       "    <tr>\n",
       "      <th>7</th>\n",
       "      <td>19TH AVE</td>\n",
       "      <td>2561 19TH AVE</td>\n",
       "    </tr>\n",
       "    <tr>\n",
       "      <th>8</th>\n",
       "      <td>MORRISON AVE</td>\n",
       "      <td>645 MORRISON AVE</td>\n",
       "    </tr>\n",
       "    <tr>\n",
       "      <th>9</th>\n",
       "      <td>FAWN CIR</td>\n",
       "      <td>4085 FAWN CIR</td>\n",
       "    </tr>\n",
       "  </tbody>\n",
       "</table>\n",
       "</div>"
      ],
      "text/plain": [
       "              str               street\n",
       "0         HIGH ST         3526 HIGH ST\n",
       "1        OMAHA CT          51 OMAHA CT\n",
       "2       BRANCH ST       2796 BRANCH ST\n",
       "3     JANETTE WAY     2805 JANETTE WAY\n",
       "4      MCMAHON DR      6001 MCMAHON DR\n",
       "5   PEPPERMILL CT   5828 PEPPERMILL CT\n",
       "6  OGDEN NASH WAY  6048 OGDEN NASH WAY\n",
       "7        19TH AVE        2561 19TH AVE\n",
       "8    MORRISON AVE     645 MORRISON AVE\n",
       "9        FAWN CIR        4085 FAWN CIR"
      ]
     },
     "execution_count": 233,
     "metadata": {},
     "output_type": "execute_result"
    }
   ],
   "source": [
    "dist_city[\"str\"] = dist_city[\"street\"].apply(lambda s: \" \".join(s.split(\" \")[1:]))\n",
    "dist_city[[\"str\", \"street\"]][:10]"
   ]
  },
  {
   "cell_type": "markdown",
   "metadata": {},
   "source": [
    "## Clustering"
   ]
  },
  {
   "cell_type": "code",
   "execution_count": 234,
   "metadata": {},
   "outputs": [],
   "source": [
    "from sklearn.cluster import KMeans"
   ]
  },
  {
   "cell_type": "code",
   "execution_count": 235,
   "metadata": {},
   "outputs": [],
   "source": [
    "kmeans = KMeans(n_clusters=8, max_iter=80, n_jobs=4)"
   ]
  },
  {
   "cell_type": "code",
   "execution_count": 236,
   "metadata": {},
   "outputs": [
    {
     "data": {
      "text/plain": [
       "(1002, 2)"
      ]
     },
     "execution_count": 236,
     "metadata": {},
     "output_type": "execute_result"
    }
   ],
   "source": [
    "trainset = estate[[\"latitude\", \"longitude\"]].values\n",
    "trainset.shape"
   ]
  },
  {
   "cell_type": "code",
   "execution_count": 237,
   "metadata": {},
   "outputs": [],
   "source": [
    "cluster_kmeans = kmeans.fit_predict(trainset)"
   ]
  },
  {
   "cell_type": "code",
   "execution_count": 238,
   "metadata": {},
   "outputs": [],
   "source": [
    "estate[\"cluster_kmeans\"] = cluster_kmeans.tolist()"
   ]
  },
  {
   "cell_type": "code",
   "execution_count": 239,
   "metadata": {},
   "outputs": [
    {
     "data": {
      "image/png": "[encoded data removed]",
      "text/plain": [
       "<Figure size 1440x576 with 1 Axes>"
      ]
     },
     "metadata": {
      "needs_background": "light"
     },
     "output_type": "display_data"
    }
   ],
   "source": [
    "for i in range(8):\n",
    "    subset = estate[estate[\"cluster_kmeans\"] == i]\n",
    "    lat = subset[\"latitude\"]\n",
    "    lng = subset[\"longitude\"]\n",
    "    plt.scatter(lat, lng, label=i)\n",
    "plt.legend(loc=\"upper right\")\n",
    "plt.show()"
   ]
  },
  {
   "cell_type": "markdown",
   "metadata": {},
   "source": [
    "### More exercises (Jupyter Notebooks)"
   ]
  },
  {
   "cell_type": "markdown",
   "metadata": {},
   "source": [
    "- [Idiomic python samples](https://nbviewer.jupyter.org/github/jerry-git/learn-python3/blob/master/notebooks/intermediate/notebooks/idiomatic_misc1.ipynb)\n",
    "- [Python standard library samples](https://nbviewer.jupyter.org/github/jerry-git/learn-python3/blob/master/notebooks/beginner/notebooks/std_lib.ipynb)\n",
    "- [Python list samples](https://github.com/ksjpswaroop/Learn2Code/blob/master/Learn2Code%20-%20Part%203%20-%20Lists.ipynb~)\n",
    "- [100 Pandas puzzles](https://github.com/ajcr/100-pandas-puzzles/blob/master/100-pandas-puzzles-with-solutions.ipynb)\n",
    "- [Scipy intro samples](https://github.com/iitmcvg/Python-Exercises/blob/master/Exercise%204%20-%20Scipy.ipynb)"
   ]
  },
  {
   "cell_type": "code",
   "execution_count": null,
   "metadata": {},
   "outputs": [],
   "source": []
  }
 ],
 "metadata": {
  "kernelspec": {
   "display_name": "Python 3",
   "language": "python",
   "name": "python3"
  },
  "language_info": {
   "codemirror_mode": {
    "name": "ipython",
    "version": 3
   },
   "file_extension": ".py",
   "mimetype": "text/x-python",
   "name": "python",
   "nbconvert_exporter": "python",
   "pygments_lexer": "ipython3",
   "version": "3.7.2"
  }
 },
 "nbformat": 4,
 "nbformat_minor": 2
}
